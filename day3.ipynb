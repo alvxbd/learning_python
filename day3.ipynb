{
 "cells": [
  {
   "cell_type": "markdown",
   "id": "af2cd17c",
   "metadata": {},
   "source": [
    "## Day 3 - 100 Days of Python Bootcamp"
   ]
  },
  {
   "cell_type": "markdown",
   "id": "bceb757d",
   "metadata": {},
   "source": [
    "Control Flow iwth if/else statements. \n",
    "\n",
    "1. if condition:\n",
    "2. do this\n",
    "3. else:\n",
    "4. do this"
   ]
  },
  {
   "cell_type": "code",
   "execution_count": null,
   "id": "db0dddc4",
   "metadata": {},
   "outputs": [],
   "source": [
    "#if condition:\n",
    "#    do this\n",
    "#    else:\n",
    "#        do this"
   ]
  },
  {
   "cell_type": "code",
   "execution_count": 1,
   "id": "07144f69",
   "metadata": {},
   "outputs": [
    {
     "name": "stdout",
     "output_type": "stream",
     "text": [
      "Welcome to the rollercoaster!\n",
      "You can ride the rollercoaster!\n"
     ]
    }
   ],
   "source": [
    "print(\"Welcome to the rollercoaster!\")\n",
    "height = int(input(\"What is your height in cm?\"))\n",
    "if height > 120:\n",
    "    print(\"You can ride the rollercoaster!\")\n",
    "else: # make sure it is not indented since this if and else are a pair!\n",
    "    print(\"Sorry, you have to be taller before you can ride.\")"
   ]
  },
  {
   "cell_type": "markdown",
   "id": "89220339",
   "metadata": {},
   "source": [
    "Comparison Operator:\n",
    "1. \">\" greater than\n",
    "2. < less than\n",
    "3. \">\"= greater than or equal to\n",
    "4. <= less than or equal to\n",
    "5. == equal to\n",
    "6. != not equal to\n",
    "\n",
    "\"=\" is assigning something to a variable, different to =="
   ]
  },
  {
   "cell_type": "markdown",
   "id": "5100237b",
   "metadata": {},
   "source": [
    "Modulo Operator (%)\n",
    "\n",
    "This operator is a binary operator (between two numbers) - works out the remainder of a division"
   ]
  },
  {
   "cell_type": "code",
   "execution_count": 3,
   "id": "0d549fad",
   "metadata": {},
   "outputs": [
    {
     "name": "stdout",
     "output_type": "stream",
     "text": [
      "3.3333333333333335\n",
      "1\n"
     ]
    }
   ],
   "source": [
    "print(10 / 3)\n",
    "print(10 % 3)"
   ]
  },
  {
   "cell_type": "markdown",
   "id": "00886ce1",
   "metadata": {},
   "source": [
    "Coding Exercise - Check whether the number inputed is odd or even."
   ]
  },
  {
   "cell_type": "code",
   "execution_count": 7,
   "id": "fc90571d",
   "metadata": {},
   "outputs": [
    {
     "name": "stdout",
     "output_type": "stream",
     "text": [
      "This number is odd!\n"
     ]
    }
   ],
   "source": [
    "number = int(input(\"Input a number.\"))\n",
    "if number % 2 == 0:\n",
    "    print(\"This number is even!\")\n",
    "else:\n",
    "    print(\"This number is odd!\")"
   ]
  },
  {
   "cell_type": "markdown",
   "id": "9057190d",
   "metadata": {},
   "source": [
    "### Nested if/else statements: ###\n",
    "\n",
    "multiple conditions\n",
    "\n",
    "Example: Rollercoaster must be > 120 AND if age > 18, pay different fee.\n",
    "\n",
    "checks first condition, if true goes into nested if statement.\n",
    "\n",
    "elif - if this condition is true, do whats underneath\n",
    "\n",
    "<a href=\"https://app.diagrams.net/?lightbox=1&target=blank&highlight=0000ff&edit=_blank&layers=1&nav=1&title=Rollercoaster%202#Uhttps%3A%2F%2Fdrive.google.com%2Fuc%3Fid%3D1XaUDMIKOxCUzJbsuZevgHZmgKr7rICbI%26export%3Ddownload#%7B%22pageId%22%3A%22bzYDor7Mf7Ch-uxfBpj_%22%7D\"> Flow Chart</a>"
   ]
  },
  {
   "cell_type": "code",
   "execution_count": null,
   "id": "0f695a3a",
   "metadata": {},
   "outputs": [
    {
     "name": "stdout",
     "output_type": "stream",
     "text": [
      "Welcome to the rollercoaster!\n",
      "You can ride the rollercoaster!\n",
      "Please pay $7\n"
     ]
    }
   ],
   "source": [
    "print(\"Welcome to the rollercoaster!\")\n",
    "height = int(input(\"What is your height in cm?\"))\n",
    "if height > 120:\n",
    "    print(\"You can ride the rollercoaster!\")\n",
    "    age = int(input(\"What is your age?\"))\n",
    "    if age < 12:\n",
    "        print(\"Please pay $5\")\n",
    "    elif age <=18: # if the condition above is not true, can you check if this is true?\n",
    "        print(\"Please pay $7\")\n",
    "    else:\n",
    "        print(\"Please pay $12\")\n",
    "    \n",
    "else: # make sure it is not indented since this if and else are a pair!\n",
    "    print(\"Sorry, you have to be taller before you can ride.\")"
   ]
  },
  {
   "cell_type": "markdown",
   "id": "ac0b92ac",
   "metadata": {},
   "source": [
    "BMI Calculator with Interpretations\n",
    "Add some if/elif/else statements to the BMI calculator so that it interprets the BMI values calculated.\n",
    "\n",
    "If the bmi is under 18.5 (not including), print out \"underweight\"\n",
    "\n",
    "If the bmi is between 18.5 (including) and 25 (not including), print out \"normal weight\"\n",
    "\n",
    "If the bmi is 25 (including) or over, print out \"overweight\"\n",
    "\n",
    "Refer to this graphic for help:"
   ]
  },
  {
   "cell_type": "code",
   "execution_count": null,
   "id": "5bb42ff5",
   "metadata": {},
   "outputs": [
    {
     "name": "stdout",
     "output_type": "stream",
     "text": [
      "Normal Weight.\n"
     ]
    }
   ],
   "source": [
    "weight = float(input(\"What is your weight in kg?\"))\n",
    "height = float(input(\"What is your hegith in cm?\"))\n",
    "\n",
    "bmi = weight / (height ** 2)\n",
    "\n",
    "if bmi < 18.5:\n",
    "    print(\"Underweight.\")\n",
    "elif bmi < 25:\n",
    "    print(\"Normal Weight.\")\n",
    "else:\n",
    "    print(\"Overweight.\")"
   ]
  },
  {
   "cell_type": "markdown",
   "id": "4f2eb9c4",
   "metadata": {},
   "source": [
    "Mutiple if:\n",
    "\n",
    "nultiple things can be true and can be carried out.\n",
    "\n",
    "<a href=\"https://app.diagrams.net/?lightbox=1&target=blank&highlight=0000ff&edit=_blank&layers=1&nav=1&title=Rollercoaster%204#Uhttps%3A%2F%2Fdrive.google.com%2Fuc%3Fid%3D1aoRTeFOb2SJO7ofMnhTCneCEboHowF2A%26export%3Ddownload#%7B%22pageId%22%3A%22bzYDor7Mf7Ch-uxfBpj_%22%7D\"> Flow Chart</a>"
   ]
  },
  {
   "cell_type": "code",
   "execution_count": null,
   "id": "810703f1",
   "metadata": {},
   "outputs": [
    {
     "name": "stdout",
     "output_type": "stream",
     "text": [
      "Welcome to the rollercoaster!\n",
      "You can ride the rollercoaster!\n",
      "Child tickets are $5\n",
      "Your final bill is 8\n"
     ]
    }
   ],
   "source": [
    "print(\"Welcome to the rollercoaster!\")\n",
    "height = int(input(\"What is your height in cm?\"))\n",
    "bill = 0\n",
    "\n",
    "if height > 120:\n",
    "    print(\"You can ride the rollercoaster!\")\n",
    "    age = int(input(\"What is your age?\"))\n",
    "    if age < 12:\n",
    "        print(\"Child tickets are $5\")\n",
    "        bill = 5\n",
    "    elif age <=18: # if the condition above is not true, can you check if this is true?\n",
    "        print(\"Youth tickets are $7\")\n",
    "        bill = 7\n",
    "    else:\n",
    "        print(\"Adult tickets are $12\")\n",
    "        bill = 12\n",
    "    photo = input(\"Do you want to have a photo taken? Type y for Yes and n for No. \")\n",
    "    if photo == \"y\":\n",
    "        bill += 3\n",
    "    \n",
    "    print(f\"Your final bill is ${bill}.\") # indentation matters - it will be executed AFTER he final if statement\n",
    "\n",
    "else: # make sure it is not indented since this if and else are a pair!\n",
    "    print(\"Sorry, you have to be taller before you can ride.\")"
   ]
  },
  {
   "cell_type": "markdown",
   "id": "57d12f31",
   "metadata": {},
   "source": [
    "Coding Challenge:\n",
    "\n",
    "Work out how much they need to pay basef of their choices:\n",
    "\n",
    "1. Size\n",
    "2. Pep\n",
    "3. Extra cheese"
   ]
  },
  {
   "cell_type": "code",
   "execution_count": null,
   "id": "e626e610",
   "metadata": {},
   "outputs": [
    {
     "name": "stdout",
     "output_type": "stream",
     "text": [
      "Welcome to Python Pizza Deliveries!\n",
      "Your total bill is $28.\n"
     ]
    }
   ],
   "source": [
    "print(\"Welcome to Python Pizza Deliveries!\")\n",
    "size = input(\"What size pizza do you want? S, M or L: \")\n",
    "pepperoni = input(\"Do you want pepperoni on your pizza? Y or N: \")\n",
    "cheese = input(\"Do you want extra cheese? Y or N: \")\n",
    "bill = 0\n",
    "\n",
    "if size == \"S\":\n",
    "    bill += 15\n",
    "    if pepperoni == \"Y\":\n",
    "        bill += 2\n",
    "elif size == \"M\":\n",
    "    bill += 20\n",
    "    if pepperoni == \"Y\":\n",
    "        bill += 3\n",
    "elif size == \"L\":\n",
    "    bill += 25\n",
    "    if pepperoni == \"Y\":\n",
    "            bill += 3\n",
    "if cheese == \"Y\":\n",
    "        bill += 1\n",
    "\n",
    "print(f\"Your total bill is ${bill}.\")\n"
   ]
  },
  {
   "cell_type": "markdown",
   "id": "92f10743",
   "metadata": {},
   "source": [
    "Logical Operators\n",
    "\n",
    "Check for multiple conditions in the same line of code\n",
    "\n",
    "1. and -- both conditions must be true\n",
    "2. or -- just one needs to be true\n",
    "3. not -- condition must be false "
   ]
  },
  {
   "cell_type": "markdown",
   "id": "6883f135",
   "metadata": {},
   "source": [
    "<a href=\"https://app.diagrams.net/?lightbox=1&target=blank&highlight=0000ff&edit=_blank&layers=1&nav=1&title=Rollercoaster%204#Uhttps%3A%2F%2Fdrive.google.com%2Fuc%3Fid%3D1aoRTeFOb2SJO7ofMnhTCneCEboHowF2A%26export%3Ddownload#%7B%22pageId%22%3A%22bzYDor7Mf7Ch-uxfBpj_%22%7D\"> Flow Chart</a>"
   ]
  },
  {
   "cell_type": "code",
   "execution_count": null,
   "id": "d949a0e1",
   "metadata": {},
   "outputs": [],
   "source": [
    "print(\"Welcome to the rollercoaster!\")\n",
    "height = int(input(\"What is your height in cm?\"))\n",
    "bill = 0\n",
    "\n",
    "if height > 120:\n",
    "    print(\"You can ride the rollercoaster!\")\n",
    "    age = int(input(\"What is your age?\"))\n",
    "    if age < 12:\n",
    "        print(\"Child tickets are $5\")\n",
    "        bill = 5\n",
    "    elif age <=18: # if the condition above is not true, can you check if this is true?\n",
    "        print(\"Youth tickets are $7\")\n",
    "        bill = 7\n",
    "    elif 45 <= age <= 55:\n",
    "        print(\"The ride is free!\")\n",
    "    else:\n",
    "        print(\"Adult tickets are $12\")\n",
    "        bill = 12\n",
    "    photo = input(\"Do you want to have a photo taken? Type y for Yes and n for No. \")\n",
    "    if photo == \"y\":\n",
    "        bill += 3\n",
    "    \n",
    "    print(f\"Your final bill is ${bill}.\") # indentation matters - it will be executed AFTER he final if statement\n",
    "\n",
    "else: # make sure it is not indented since this if and else are a pair!\n",
    "    print(\"Sorry, you have to be taller before you can ride.\")"
   ]
  }
 ],
 "metadata": {
  "kernelspec": {
   "display_name": "Python 3",
   "language": "python",
   "name": "python3"
  },
  "language_info": {
   "codemirror_mode": {
    "name": "ipython",
    "version": 3
   },
   "file_extension": ".py",
   "mimetype": "text/x-python",
   "name": "python",
   "nbconvert_exporter": "python",
   "pygments_lexer": "ipython3",
   "version": "3.13.7"
  }
 },
 "nbformat": 4,
 "nbformat_minor": 5
}

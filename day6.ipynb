{
 "cells": [
  {
   "cell_type": "markdown",
   "id": "a7ec54b8",
   "metadata": {},
   "source": [
    "# Day 6 of 100 days of Python Bootcamp"
   ]
  },
  {
   "cell_type": "markdown",
   "id": "c9f9a1c1",
   "metadata": {},
   "source": [
    "Functions -- Name for a block of code -- When called, this block is executed.\n",
    "\n",
    "How to make own function?\n",
    "\n",
    "We start with def -- which stands for defining. We then give the function a name -- def my_function():"
   ]
  },
  {
   "cell_type": "code",
   "execution_count": null,
   "id": "b5253036",
   "metadata": {},
   "outputs": [
    {
     "name": "stdout",
     "output_type": "stream",
     "text": [
      "Hello\n",
      "Bye\n"
     ]
    }
   ],
   "source": [
    "def my_function(): # defining the function, lines underneath are the functions code - remember indentation\n",
    "    print(\"Hello\")\n",
    "    print(\"Bye\") # if ran from here - nothing happens. we need to execute the function\n",
    "\n",
    "my_function() # this is where it is executed and the function works -- CALLING the function"
   ]
  },
  {
   "cell_type": "markdown",
   "id": "f4440416",
   "metadata": {},
   "source": [
    "Reeborg Game:\n",
    " [Link](https://reeborg.ca/reeborg.html?lang=en&mode=python&menu=worlds%2Fmenus%2Freeborg_intro_en.json&name=Hurdle%201&url=worlds%2Ftutorial_en%2Fhurdle1.json)"
   ]
  },
  {
   "cell_type": "code",
   "execution_count": null,
   "id": "2644c653",
   "metadata": {},
   "outputs": [],
   "source": [
    "def turn_right():\n",
    "    turn_left()\n",
    "    turn_left()\n",
    "    turn_left()\n",
    "   \n",
    "def jump():\n",
    "    move()\n",
    "    turn_left()\n",
    "    move()\n",
    "    turn_right()\n",
    "    move()\n",
    "    turn_right()\n",
    "    move()\n",
    "    turn_left()\n",
    "\n",
    "for step in range(6):\n",
    "    jump()"
   ]
  },
  {
   "cell_type": "markdown",
   "id": "aa20d281",
   "metadata": {},
   "source": [
    "While loop -- will continue while it is still true.\n",
    "\n",
    "while something_is_true:\n",
    "    do_something"
   ]
  },
  {
   "cell_type": "code",
   "execution_count": 5,
   "id": "3570b57f",
   "metadata": {},
   "outputs": [
    {
     "name": "stdout",
     "output_type": "stream",
     "text": [
      "ayo\n",
      "1\n",
      "ayo\n",
      "2\n",
      "ayo\n",
      "3\n",
      "ayo\n",
      "4\n",
      "ayo\n",
      "5\n"
     ]
    }
   ],
   "source": [
    "a = 5\n",
    "b = 0\n",
    "\n",
    "while b < a:\n",
    "    print(\"ayo\")\n",
    "    b += 1\n",
    "    print(b)"
   ]
  },
  {
   "cell_type": "markdown",
   "id": "9bb2302f",
   "metadata": {},
   "source": [
    "Coding Challenge:\n",
    "\n",
    "[Link](https://reeborg.ca/reeborg.html?lang=en&mode=python&menu=worlds%2Fmenus%2Freeborg_intro_en.json&name=Hurdle%203&url=worlds%2Ftutorial_en%2Fhurdle3.json)"
   ]
  },
  {
   "cell_type": "code",
   "execution_count": null,
   "id": "0f79fc25",
   "metadata": {},
   "outputs": [],
   "source": [
    "def turn_right():\n",
    "    turn_left()\n",
    "    turn_left()\n",
    "    turn_left()\n",
    "   \n",
    "def jump():\n",
    "    turn_left()\n",
    "    move()\n",
    "    turn_right()\n",
    "    move()\n",
    "    turn_right()\n",
    "    move()\n",
    "    turn_left()\n",
    "    \n",
    "while at_goal() is False:\n",
    "    if wall_in_front():\n",
    "        jump()\n",
    "    else:\n",
    "        move()"
   ]
  },
  {
   "cell_type": "markdown",
   "id": "2d26e00c",
   "metadata": {},
   "source": [
    "Coding Challenge:\n",
    "\n",
    "[Link](https://reeborg.ca/reeborg.html?lang=en&mode=python&menu=worlds%2Fmenus%2Freeborg_intro_en.json&name=Hurdle%204&url=worlds%2Ftutorial_en%2Fhurdle4.json)"
   ]
  },
  {
   "cell_type": "code",
   "execution_count": null,
   "id": "deeb602a",
   "metadata": {},
   "outputs": [],
   "source": [
    "def turn_right():\n",
    "    turn_left()\n",
    "    turn_left()\n",
    "    turn_left()\n",
    "   \n",
    "def jump():\n",
    "    turn_left()\n",
    "    while wall_on_right():\n",
    "        move()\n",
    "    turn_right()\n",
    "    move()\n",
    "    turn_right()\n",
    "    while front_is_clear():\n",
    "        move()\n",
    "    turn_left()\n",
    "\n",
    "while at_goal() is False:\n",
    "    if wall_in_front():\n",
    "        jump()\n",
    "    else:\n",
    "        move()"
   ]
  }
 ],
 "metadata": {
  "kernelspec": {
   "display_name": "Python 3",
   "language": "python",
   "name": "python3"
  },
  "language_info": {
   "codemirror_mode": {
    "name": "ipython",
    "version": 3
   },
   "file_extension": ".py",
   "mimetype": "text/x-python",
   "name": "python",
   "nbconvert_exporter": "python",
   "pygments_lexer": "ipython3",
   "version": "3.13.7"
  }
 },
 "nbformat": 4,
 "nbformat_minor": 5
}

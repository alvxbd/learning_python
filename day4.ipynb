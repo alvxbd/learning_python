{
 "cells": [
  {
   "cell_type": "markdown",
   "id": "95164ca2",
   "metadata": {},
   "source": [
    "# Day 4 of 100 Days of Python Bootcamp"
   ]
  },
  {
   "cell_type": "markdown",
   "id": "525bab9d",
   "metadata": {},
   "source": [
    "Randomisation and Python Lists"
   ]
  },
  {
   "cell_type": "code",
   "execution_count": null,
   "id": "6d309014",
   "metadata": {},
   "outputs": [],
   "source": [
    "import random\n",
    "\n",
    "# library already designed for random variables"
   ]
  },
  {
   "cell_type": "markdown",
   "id": "5e9f02ba",
   "metadata": {},
   "source": [
    "random.randint(a, b) will yield a random integer \"N\" such that a <= N <= b"
   ]
  },
  {
   "cell_type": "code",
   "execution_count": 17,
   "id": "a419c25b",
   "metadata": {},
   "outputs": [
    {
     "name": "stdout",
     "output_type": "stream",
     "text": [
      "31\n"
     ]
    }
   ],
   "source": [
    "ran_int = random.randint(1, 100)\n",
    "\n",
    "print(ran_int)"
   ]
  },
  {
   "cell_type": "markdown",
   "id": "6064ad00",
   "metadata": {},
   "source": [
    "What is a module? - \"random\"\n",
    "\n",
    "For long codes, coding sections get split into modules for simplification. Can create our own module by creating it in the same folder (.py) file and stating import my_file into the main file. Can find all the random functions in the documentation on Python website"
   ]
  },
  {
   "cell_type": "code",
   "execution_count": null,
   "id": "f64117a3",
   "metadata": {},
   "outputs": [
    {
     "name": "stdout",
     "output_type": "stream",
     "text": [
      "0.13176046929618956\n",
      "6.551174875334339\n"
     ]
    }
   ],
   "source": [
    "# floating point numbers\n",
    "\n",
    "ran_nim = random.random() # first random is module, second if function within module\n",
    "\n",
    "print(ran_nim)\n",
    "\n",
    "ran_float = random.uniform(1, 10) # will return a floating point number inclusive of a and b\n",
    "\n",
    "print(ran_float)\n",
    "\n",
    "# recommended to use random.random and multiply by something to scale"
   ]
  },
  {
   "cell_type": "code",
   "execution_count": 61,
   "id": "3133608f",
   "metadata": {},
   "outputs": [
    {
     "name": "stdout",
     "output_type": "stream",
     "text": [
      "Tails\n"
     ]
    }
   ],
   "source": [
    "# heads or tails program\n",
    "\n",
    "import random\n",
    "\n",
    "chance = random.randint(0 ,1)\n",
    "\n",
    "if chance == 0:\n",
    "    print(\"Heads\")\n",
    "else:\n",
    "    print(\"Tails\")"
   ]
  },
  {
   "cell_type": "markdown",
   "id": "67a5f7d3",
   "metadata": {},
   "source": [
    "Lists - A way to store data - A data structure.\n",
    "\n",
    "Storing grouped data instead of separately - sometimes we also want order\n",
    "\n",
    "fruits = [item1, item2] - ALWAYS have these brackets\n",
    "\n",
    "<a href = \"https://docs.python.org/3/tutorial/datastructures.html\">Data Strcuture Definitions </a>"
   ]
  },
  {
   "cell_type": "code",
   "execution_count": 85,
   "id": "36502689",
   "metadata": {},
   "outputs": [
    {
     "name": "stdout",
     "output_type": "stream",
     "text": [
      "Delaware\n",
      "New Jersey\n",
      "Pennsylvania\n",
      "Pencilvania\n",
      "Alexland\n",
      "['Delaware', 'Pencilvania', 'New Jersey', 'Alexland', 'Chloeland', 'Johnland']\n",
      "6\n"
     ]
    }
   ],
   "source": [
    "states_of_america = [\"Delaware\", \"Pennsylvania\", \"New Jersey\"] # the order matters - it is determined by the position inside the list\n",
    "\n",
    "print(states_of_america[0]) # can find the variable in a specified postion - 0-indexed\n",
    "\n",
    "print(states_of_america[-1]) # counts starting from the end of the list\n",
    "\n",
    "print(states_of_america[1])\n",
    "\n",
    "states_of_america[1] = \"Pencilvania\" # takes the data in position 1 and replaces it\n",
    "\n",
    "print(states_of_america[1])\n",
    "\n",
    "states_of_america.append(\"Alexland\") # adds a new item to the end of the list\n",
    "\n",
    "print(states_of_america[-1])\n",
    "\n",
    "states_of_america.extend([\"Chloeland\", \"Johnland\"]) # extends the list\n",
    "\n",
    "print(states_of_america) # do not memorize everything - we have documentation for everything\n",
    "\n",
    "print(len(states_of_america))"
   ]
  },
  {
   "cell_type": "code",
   "execution_count": null,
   "id": "0493bd8d",
   "metadata": {},
   "outputs": [
    {
     "name": "stdout",
     "output_type": "stream",
     "text": [
      "Charlie\n",
      "David\n"
     ]
    }
   ],
   "source": [
    "# coding exercise\n",
    "\n",
    "# 1st option\n",
    "friends = [\"Alice\", \"Bob\", \"Charlie\", \"David\", \"Emanuel\"]\n",
    "print(random.choice(friends)) # random.choice allows a random item to be picked from a list\n",
    "\n",
    "# 2nd option\n",
    "random_index = random.randint(0, 4)\n",
    "print(friends[random_index]) # the square brackets allow us to 'tap-into' the lsit and select an item from there\n"
   ]
  },
  {
   "cell_type": "code",
   "execution_count": null,
   "id": "cce4a381",
   "metadata": {},
   "outputs": [
    {
     "name": "stdout",
     "output_type": "stream",
     "text": [
      "Kale\n"
     ]
    }
   ],
   "source": [
    "dirty_dozen = [\"Strawberries\", \"Spinach\", \"Kale\", \"Nectarines\", \"Apples\", \"Grapes\", \"Peaches\", \"Cherries\", \"Pears\", \"Tomatoes\", \"Celery\", \"Potatoes\"]\n",
    "\n",
    "# some are fruit, some are vegetables - how do we separate?\n",
    "\n",
    "# could make two lists - but they are related so we want to keep it at one - nested lists (list within a list)\n",
    "\n",
    "fruits = [\"Strawberries\", \"Nectarines\", \"Apples\", \"Grapes\", \"Peaches\", \"Cherries\", \"Pears\"]\n",
    "vegetables = [\"Spinach\", \"Kale\", \"Tomatoes\", \"Celery\", \"Potatoes\"]\n",
    "\n",
    "dirty_dozen = [fruits, vegetables] # lists within a list\n",
    "\n",
    "print(dirty_dozen[1][1]) # second list, second item"
   ]
  }
 ],
 "metadata": {
  "kernelspec": {
   "display_name": "Python 3",
   "language": "python",
   "name": "python3"
  },
  "language_info": {
   "codemirror_mode": {
    "name": "ipython",
    "version": 3
   },
   "file_extension": ".py",
   "mimetype": "text/x-python",
   "name": "python",
   "nbconvert_exporter": "python",
   "pygments_lexer": "ipython3",
   "version": "3.13.7"
  }
 },
 "nbformat": 4,
 "nbformat_minor": 5
}

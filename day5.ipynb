{
 "cells": [
  {
   "cell_type": "markdown",
   "id": "e01b96d1",
   "metadata": {},
   "source": [
    "# Day 5 of 100 Days of Python Bootcamp"
   ]
  },
  {
   "cell_type": "markdown",
   "id": "a3a1633e",
   "metadata": {},
   "source": [
    "For Loops with Python Lists\n",
    "\n",
    "Things that have to happen over and over\n",
    "\n",
    "1. For Loop -- for item in list_of_items:\n",
    "                        \n",
    "                        do something\n",
    "\n",
    "Allows us to execute the same line/block multiple times - indented after the \"for\" statement\n",
    "\n",
    "Indentation is very important -- if indented it wuill repreat when the for-loop repeats\n"
   ]
  },
  {
   "cell_type": "code",
   "execution_count": null,
   "id": "f1a25c44",
   "metadata": {},
   "outputs": [
    {
     "name": "stdout",
     "output_type": "stream",
     "text": [
      "Apple\n",
      "Apple pie\n",
      "['Apple', 'Peach', 'Pear']\n",
      "Peach\n",
      "Peach pie\n",
      "['Apple', 'Peach', 'Pear']\n",
      "Pear\n",
      "Pear pie\n",
      "['Apple', 'Peach', 'Pear']\n",
      "['Apple', 'Peach', 'Pear']\n"
     ]
    }
   ],
   "source": [
    "fruits = [\"Apple\", \"Peach\", \"Pear\"]\n",
    "\n",
    "for fruit in fruits: # for each item in list, print\n",
    "    print(fruit)\n",
    "    print(fruit + \" pie\")\n",
    "    print(fruits)\n",
    "print(fruits) # outside of for-loop, prints after the loops is done"
   ]
  },
  {
   "cell_type": "code",
   "execution_count": null,
   "id": "390c16aa",
   "metadata": {},
   "outputs": [
    {
     "name": "stdout",
     "output_type": "stream",
     "text": [
      "1492\n",
      "1492\n",
      "267\n",
      "267\n",
      "12\n",
      "12\n"
     ]
    }
   ],
   "source": [
    "student_scores = [150, 142, 56, 204, 267, 202, 143, 124, 12, 192]\n",
    "\n",
    "total = sum(student_scores)\n",
    "print(total)\n",
    "\n",
    "manual_sum = 0\n",
    "for score in student_scores:\n",
    "    manual_sum += score\n",
    "print(manual_sum)\n",
    "\n",
    "# coding challenge - Replicate the 'max' function\n",
    "\n",
    "maximum_score = max(student_scores)\n",
    "print(maximum_score)\n",
    "\n",
    "max_score = 0 # manual max check\n",
    "for score in student_scores:\n",
    "    if score > max_score: # if\n",
    "        max_score = score # then\n",
    "print(max_score)\n",
    "\n",
    "minimum_score = min(student_scores)\n",
    "print(minimum_score)\n",
    "\n",
    "min_score = 10000 # manual min check\n",
    "for score in student_scores:\n",
    "    if score < min_score:\n",
    "        min_score = score\n",
    "print(min_score)\n"
   ]
  },
  {
   "cell_type": "markdown",
   "id": "5e7f3c35",
   "metadata": {},
   "source": [
    "So far, we've been looping through lists. But we will not always be using lists. Range function -- for number in range(a, b): print(number). Range function must be used "
   ]
  },
  {
   "cell_type": "code",
   "execution_count": null,
   "id": "a6146746",
   "metadata": {},
   "outputs": [
    {
     "name": "stdout",
     "output_type": "stream",
     "text": [
      "1\n",
      "4\n",
      "7\n"
     ]
    }
   ],
   "source": [
    "for number in range(1, 10): # if i want 10, i would need to include 11\n",
    "    print(number)\n",
    "\n",
    "for numb in range (1,10, 2): # third number is the step size\n",
    "    print(numb)"
   ]
  },
  {
   "cell_type": "code",
   "execution_count": 31,
   "id": "000945ed",
   "metadata": {},
   "outputs": [
    {
     "name": "stdout",
     "output_type": "stream",
     "text": [
      "5050\n"
     ]
    }
   ],
   "source": [
    "# coding challenege -- add all the digits from 1 - 100\n",
    "\n",
    "total = 0\n",
    "for number in range(1, 101):\n",
    "    total += number\n",
    "print(total)"
   ]
  },
  {
   "cell_type": "markdown",
   "id": "4208eb5e",
   "metadata": {},
   "source": [
    "# coding challenge - FizzBuzz game FizzBuzz\n",
    "You are going to write a program that automatically prints the solution to the FizzBuzz game. These are the rules of the FizzBuzz game:\n",
    "\n",
    "\n",
    "\n",
    "Your program should print each number from 1 to 100 in turn and include number 100.\n",
    "\n",
    "\n",
    "\n",
    "But when the number is divisible by 3 then instead of printing the number it should print \"Fizz\".\n",
    "\n",
    "\n",
    "\n",
    "When the number is divisible by 5, then instead of printing the number it should print \"Buzz\".`\n",
    "\n",
    "\n",
    "\n",
    "And if the number is divisible by both 3 and 5 e.g. 15 then instead of the number it should print \"FizzBuzz\"\n",
    "\n",
    "\n",
    "\n",
    "e.g. it might start off like this:\n",
    "\n",
    "1\n",
    "2\n",
    "Fizz\n",
    "4\n",
    "Buzz\n",
    "Fizz\n",
    "7\n",
    "8\n",
    "Fizz\n",
    "Buzz\n",
    "11\n",
    "Fizz\n",
    "13\n",
    "14\n",
    "FizzBuzz\n",
    "...etc"
   ]
  },
  {
   "cell_type": "code",
   "execution_count": null,
   "id": "e010424e",
   "metadata": {},
   "outputs": [],
   "source": [
    "\n",
    "for number in range(1, 101):\n",
    "    if number % 3 == 0 and number % 5 == 0:\n",
    "        print(\"FizzBuzz\")\n",
    "    elif number % 5 == 0:\n",
    "        print(\"Buzz\")\n",
    "    elif number % 3 == 0:\n",
    "        print(\"Fizz\")\n",
    "    else:\n",
    "        print(number)\n",
    "    "
   ]
  }
 ],
 "metadata": {
  "kernelspec": {
   "display_name": "Python 3",
   "language": "python",
   "name": "python3"
  },
  "language_info": {
   "codemirror_mode": {
    "name": "ipython",
    "version": 3
   },
   "file_extension": ".py",
   "mimetype": "text/x-python",
   "name": "python",
   "nbconvert_exporter": "python",
   "pygments_lexer": "ipython3",
   "version": "3.13.7"
  }
 },
 "nbformat": 4,
 "nbformat_minor": 5
}

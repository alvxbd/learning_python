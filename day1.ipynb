{
 "cells": [
  {
   "cell_type": "markdown",
   "id": "baedd87c",
   "metadata": {},
   "source": [
    "These are Exercises from 1000 days of Code Bootcamp"
   ]
  },
  {
   "cell_type": "markdown",
   "id": "92ca8937",
   "metadata": {},
   "source": [
    "### Print Function ###"
   ]
  },
  {
   "cell_type": "code",
   "execution_count": 3,
   "id": "2b670a1f",
   "metadata": {},
   "outputs": [
    {
     "name": "stdout",
     "output_type": "stream",
     "text": [
      "Hello World!\n"
     ]
    }
   ],
   "source": [
    "print(\"Hello World!\")"
   ]
  },
  {
   "cell_type": "markdown",
   "id": "efc257ca",
   "metadata": {},
   "source": [
    "The pieces of text are called a <i> String </i>"
   ]
  },
  {
   "cell_type": "code",
   "execution_count": 4,
   "id": "6d919b5d",
   "metadata": {},
   "outputs": [
    {
     "ename": "SyntaxError",
     "evalue": "unterminated string literal (detected at line 1) (3474576738.py, line 1)",
     "output_type": "error",
     "traceback": [
      "  \u001b[36mCell\u001b[39m\u001b[36m \u001b[39m\u001b[32mIn[4]\u001b[39m\u001b[32m, line 1\u001b[39m\n\u001b[31m    \u001b[39m\u001b[31mprint(\"Hello world)\u001b[39m\n          ^\n\u001b[31mSyntaxError\u001b[39m\u001b[31m:\u001b[39m unterminated string literal (detected at line 1)\n"
     ]
    }
   ],
   "source": [
    "print(\"Hello world)"
   ]
  },
  {
   "cell_type": "markdown",
   "id": "f453ee8c",
   "metadata": {},
   "source": [
    "Error example above - Points to error and says \"Unterminated string literal\" Meaning we opened a string but did not close it."
   ]
  },
  {
   "cell_type": "markdown",
   "id": "bf3a2923",
   "metadata": {},
   "source": [
    "### String Manipulation (Concactenation) ###\n",
    "\n",
    "\"\\n\" Switches lines between the text"
   ]
  },
  {
   "cell_type": "code",
   "execution_count": 7,
   "id": "98ef7b44",
   "metadata": {},
   "outputs": [
    {
     "name": "stdout",
     "output_type": "stream",
     "text": [
      "Hello World\n",
      "Hello World\n"
     ]
    }
   ],
   "source": [
    "print(\"Hello World\\nHello World\")"
   ]
  },
  {
   "cell_type": "code",
   "execution_count": null,
   "id": "e6abedce",
   "metadata": {},
   "outputs": [
    {
     "name": "stdout",
     "output_type": "stream",
     "text": [
      "Hello Alex\n"
     ]
    }
   ],
   "source": [
    "#Add a space since it does not add a space automatically\n",
    "\n",
    "print(\"Hello \" + \"Alex\")"
   ]
  },
  {
   "cell_type": "code",
   "execution_count": null,
   "id": "e2aff04e",
   "metadata": {},
   "outputs": [],
   "source": [
    "# Indentation error \n",
    "\n",
    " print(\"Hello \" + \"Alex\")"
   ]
  },
  {
   "cell_type": "markdown",
   "id": "3e1988c0",
   "metadata": {},
   "source": [
    "### Inputs ###\n",
    "\n",
    "input() function will ask the user to input something. The 'prompt' is whats between the paratheses and qutations."
   ]
  },
  {
   "cell_type": "code",
   "execution_count": null,
   "id": "3ca489f4",
   "metadata": {},
   "outputs": [
    {
     "name": "stdout",
     "output_type": "stream",
     "text": [
      "What is your name?\n"
     ]
    }
   ],
   "source": [
    "print(\"What is your name?\")\n",
    "\n",
    "# User cannot input their name"
   ]
  },
  {
   "cell_type": "code",
   "execution_count": null,
   "id": "470cb18d",
   "metadata": {},
   "outputs": [
    {
     "name": "stdout",
     "output_type": "stream",
     "text": [
      "Hello Alex!\n"
     ]
    }
   ],
   "source": [
    "# input(\"A prompt for the user\")\n",
    "\n",
    "print(\"Hello\" + \" \" + input(\"What is your name?\") + \"!\")"
   ]
  },
  {
   "cell_type": "markdown",
   "id": "40cbe7e9",
   "metadata": {},
   "source": [
    "Highlight code &rarr; Crtl + / &rarr; Turns the code into a comment &rarr; Repeat to undo"
   ]
  },
  {
   "cell_type": "code",
   "execution_count": null,
   "id": "162001f3",
   "metadata": {},
   "outputs": [],
   "source": [
    "# print(\"Hello\" + \" \" + input(\"What is your name?\") + \"!\")"
   ]
  },
  {
   "cell_type": "markdown",
   "id": "a21719d1",
   "metadata": {},
   "source": [
    "### Python Variables ###\n",
    "\n",
    "Cant have numbers as first character of a variable"
   ]
  },
  {
   "cell_type": "code",
   "execution_count": 22,
   "id": "eef77dad",
   "metadata": {},
   "outputs": [],
   "source": [
    "name = input(\"What is your name\")\n"
   ]
  },
  {
   "cell_type": "code",
   "execution_count": 21,
   "id": "1110dc9e",
   "metadata": {},
   "outputs": [
    {
     "name": "stdout",
     "output_type": "stream",
     "text": [
      "Alex\n"
     ]
    }
   ],
   "source": [
    "print(name)"
   ]
  },
  {
   "cell_type": "markdown",
   "id": "19ee546c",
   "metadata": {},
   "source": [
    "Assigns the user input to the variable \"name\". A variable can change later in the code."
   ]
  },
  {
   "cell_type": "code",
   "execution_count": null,
   "id": "be7243b1",
   "metadata": {},
   "outputs": [
    {
     "name": "stdout",
     "output_type": "stream",
     "text": [
      "Alex\n",
      "John\n",
      "4\n"
     ]
    }
   ],
   "source": [
    "name = \"Alex\"\n",
    "print(name)\n",
    "\n",
    "name=\"John\" # variable is now assigned to a different string and will print after\n",
    "print(name)\n",
    "\n",
    "print(len(name)) # len() gives the length of a string"
   ]
  },
  {
   "cell_type": "code",
   "execution_count": 25,
   "id": "6e4f374c",
   "metadata": {},
   "outputs": [
    {
     "name": "stdout",
     "output_type": "stream",
     "text": [
      "4\n"
     ]
    }
   ],
   "source": [
    "print(len(input(\"What is your name\")))"
   ]
  },
  {
   "cell_type": "code",
   "execution_count": null,
   "id": "045d2d05",
   "metadata": {},
   "outputs": [
    {
     "name": "stdout",
     "output_type": "stream",
     "text": [
      "Alex\n",
      "4\n"
     ]
    }
   ],
   "source": [
    "user_name = input(\"What is your username?\")\n",
    "length = len(user_name)\n",
    "\n",
    "print(user_name)\n",
    "print(length)"
   ]
  },
  {
   "cell_type": "markdown",
   "id": "9b9a737a",
   "metadata": {},
   "source": [
    "Exercise - We have 2 variables, glass1 and glass2. Switch these varibales with 3 lines of code"
   ]
  },
  {
   "cell_type": "code",
   "execution_count": 30,
   "id": "c718e225",
   "metadata": {},
   "outputs": [
    {
     "name": "stdout",
     "output_type": "stream",
     "text": [
      "Glass 1: milk\n",
      "Glass 2: juice\n",
      "Glass 1 is now: juice\n",
      "Glass 2 is now: milk\n"
     ]
    }
   ],
   "source": [
    "glass1 = \"milk\"\n",
    "glass2 = \"juice\"\n",
    "\n",
    "print(\"Glass 1:\", glass1)\n",
    "print(\"Glass 2:\", glass2)\n",
    "\n",
    "temp = glass1\n",
    "glass1 = glass2\n",
    "glass2 = temp\n",
    "\n",
    "print(\"Glass 1 is now:\", glass1)\n",
    "print(\"Glass 2 is now:\", glass2)"
   ]
  },
  {
   "cell_type": "markdown",
   "id": "a967c829",
   "metadata": {},
   "source": [
    "Name Error - Name (Variable) not defined"
   ]
  },
  {
   "cell_type": "code",
   "execution_count": null,
   "id": "84e67173",
   "metadata": {},
   "outputs": [],
   "source": [
    "name = \"Alex\"\n",
    "\n",
    "print(nama)"
   ]
  },
  {
   "cell_type": "markdown",
   "id": "b6157cbe",
   "metadata": {},
   "source": [
    "## Day 1 Final Project - Band Name Generator ##\n",
    "\n",
    "Run as separate Python script in terminal for best experience."
   ]
  },
  {
   "cell_type": "code",
   "execution_count": 44,
   "id": "3b360339",
   "metadata": {},
   "outputs": [
    {
     "name": "stdout",
     "output_type": "stream",
     "text": [
      "Welcome to the Band Name Generator\n",
      "Your band name could be Montreal Mica!\n"
     ]
    }
   ],
   "source": [
    "print(\"Welcome to the Band Name Generator\")\n",
    "city = input(\"What's the name of the city you grew up in?\\n\")\n",
    "pet_name = input(\"What's your pet name?\\n\")\n",
    "print(\"Your band name could be \" + city + \" \" + pet_name + \"!\")\n"
   ]
  }
 ],
 "metadata": {
  "kernelspec": {
   "display_name": "Python 3",
   "language": "python",
   "name": "python3"
  },
  "language_info": {
   "codemirror_mode": {
    "name": "ipython",
    "version": 3
   },
   "file_extension": ".py",
   "mimetype": "text/x-python",
   "name": "python",
   "nbconvert_exporter": "python",
   "pygments_lexer": "ipython3",
   "version": "3.13.7"
  }
 },
 "nbformat": 4,
 "nbformat_minor": 5
}

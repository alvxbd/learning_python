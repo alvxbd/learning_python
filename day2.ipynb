{
 "cells": [
  {
   "cell_type": "markdown",
   "id": "0fab0699",
   "metadata": {},
   "source": [
    "# <u> <i> Day 2 - 100 Days of Code Bootcamp"
   ]
  },
  {
   "cell_type": "markdown",
   "id": "3068a2c4",
   "metadata": {},
   "source": [
    "### Data Types"
   ]
  },
  {
   "cell_type": "markdown",
   "id": "fc058a3a",
   "metadata": {},
   "source": [
    "Strings - From Day 1 - String of Characters - Zero Indexed"
   ]
  },
  {
   "cell_type": "code",
   "execution_count": null,
   "id": "50e8b186",
   "metadata": {},
   "outputs": [
    {
     "name": "stdout",
     "output_type": "stream",
     "text": [
      "H\n",
      "o\n",
      "o\n"
     ]
    }
   ],
   "source": [
    "print(\"Hello\" [0]) # Position '0' is the first position\n",
    "\n",
    "print (\"Hello\"[4]) \n",
    "\n",
    "# or\n",
    "\n",
    "print (\"Hello\"[-1]) # '-1' is the last value"
   ]
  },
  {
   "cell_type": "markdown",
   "id": "b91e9615",
   "metadata": {},
   "source": [
    "Integer - Whole Numbers, no decimals"
   ]
  },
  {
   "cell_type": "code",
   "execution_count": null,
   "id": "364cface",
   "metadata": {},
   "outputs": [
    {
     "name": "stdout",
     "output_type": "stream",
     "text": [
      "579\n"
     ]
    }
   ],
   "source": [
    "print(123 + 456)\n"
   ]
  },
  {
   "cell_type": "markdown",
   "id": "e24485c1",
   "metadata": {},
   "source": [
    "Float - Floating Point Number - Decimals"
   ]
  },
  {
   "cell_type": "code",
   "execution_count": 5,
   "id": "b838eee3",
   "metadata": {},
   "outputs": [
    {
     "name": "stdout",
     "output_type": "stream",
     "text": [
      "3.14159\n"
     ]
    }
   ],
   "source": [
    "print(3.14159)"
   ]
  },
  {
   "cell_type": "markdown",
   "id": "1dbd524f",
   "metadata": {},
   "source": [
    "Boolean - True or false, 0 or 1 - Used a lot"
   ]
  },
  {
   "cell_type": "markdown",
   "id": "1f51d9ec",
   "metadata": {},
   "source": [
    " Data Type Exercise"
   ]
  },
  {
   "cell_type": "code",
   "execution_count": 11,
   "id": "11b6cffc",
   "metadata": {},
   "outputs": [
    {
     "name": "stdout",
     "output_type": "stream",
     "text": [
      "<class 'str'>\n",
      "<class 'int'>\n",
      "<class 'float'>\n",
      "<class 'bool'>\n"
     ]
    }
   ],
   "source": [
    "s = \"String\"\n",
    "i = 123\n",
    "f = 3.2\n",
    "b = True\n",
    "\n",
    "print(type(s))\n",
    "print(type(i))\n",
    "print(type(f))\n",
    "print(type(b))"
   ]
  },
  {
   "cell_type": "markdown",
   "id": "19680c72",
   "metadata": {},
   "source": [
    "Type Conversion/Type Casting"
   ]
  },
  {
   "cell_type": "code",
   "execution_count": null,
   "id": "e070059d",
   "metadata": {},
   "outputs": [
    {
     "name": "stdout",
     "output_type": "stream",
     "text": [
      "579\n"
     ]
    }
   ],
   "source": [
    "int (\"123\") # Converts the String into an Integer\n",
    "\n",
    "print(int(\"123\") + int(\"456\"))\n",
    "\n",
    "int()\n",
    "float()\n",
    "str()\n",
    "bool()"
   ]
  },
  {
   "cell_type": "markdown",
   "id": "58b55dbb",
   "metadata": {},
   "source": [
    "Type Casting Exercise\n",
    "\n",
    "Error Code: print(\"Number of letters in your name: \" + len(input(\"Enter your name\")))"
   ]
  },
  {
   "cell_type": "code",
   "execution_count": null,
   "id": "c9302b48",
   "metadata": {},
   "outputs": [
    {
     "name": "stdout",
     "output_type": "stream",
     "text": [
      "Number of letters in your name: 4\n"
     ]
    }
   ],
   "source": [
    "print(\"Number of letters in your name: \" + str(len(input(\"Enter your name\")))) # the fix is converting the integer (length) to a string since you cannot concatenate an integer with a string\n",
    "\n",
    "# converts 4 to \"4\""
   ]
  },
  {
   "cell_type": "markdown",
   "id": "8f3c6d50",
   "metadata": {},
   "source": [
    "Mathematical operations in Python"
   ]
  },
  {
   "cell_type": "code",
   "execution_count": 23,
   "id": "19e83aca",
   "metadata": {},
   "outputs": [
    {
     "name": "stdout",
     "output_type": "stream",
     "text": [
      "My age: 21\n",
      "579\n",
      "4\n",
      "6\n",
      "2.0\n",
      "<class 'float'>\n",
      "2\n",
      "<class 'int'>\n",
      "8\n",
      "7.0\n",
      "3\n"
     ]
    }
   ],
   "source": [
    "print(\"My age: \" +str(21))\n",
    "print(123 + 456)\n",
    "print(7 - 3)\n",
    "print(3 * 2)\n",
    "print(6 / 3) # float\n",
    "print(type(6 / 3))\n",
    "print(6 // 3) # integer - removes all decimals, does not round\n",
    "print(type(6 // 3))\n",
    "print(2 ** 3) #exponent - loved\n",
    "\n",
    "#PEMDAS applies - Parentheses - Exponents - Mul/Div - Add/Sub\n",
    "\n",
    "print(3 * 3 + 3 / 3 - 3)\n",
    "\n",
    "print(3 * 3 - 3 * 3 + 3)"
   ]
  },
  {
   "cell_type": "code",
   "execution_count": null,
   "id": "6a10b4fb",
   "metadata": {},
   "outputs": [
    {
     "name": "stdout",
     "output_type": "stream",
     "text": [
      "30.85399449035813\n",
      "30\n",
      "31\n",
      "30.854\n"
     ]
    }
   ],
   "source": [
    "height = 1.65\n",
    "weight = 84\n",
    "\n",
    "bmi = weight / height ** 2\n",
    "\n",
    "print(bmi)\n",
    "\n",
    "print(int(bmi)) # \"Floors\" the number - removes all decimals but does not round\n",
    "\n",
    "# to round - use round()\n",
    "\n",
    "print(round(bmi))\n",
    "\n",
    "print(round(bmi, 4)) # second is number of digits to round to"
   ]
  },
  {
   "cell_type": "markdown",
   "id": "410e460c",
   "metadata": {},
   "source": [
    "Assignment Operator"
   ]
  },
  {
   "cell_type": "code",
   "execution_count": 5,
   "id": "5a2cf2b6",
   "metadata": {},
   "outputs": [
    {
     "name": "stdout",
     "output_type": "stream",
     "text": [
      "1\n"
     ]
    }
   ],
   "source": [
    "score = 0\n",
    "\n",
    "# user scores a point\n",
    "\n",
    "score += 1\n",
    "\n",
    "print(score)"
   ]
  },
  {
   "cell_type": "markdown",
   "id": "83306362",
   "metadata": {},
   "source": [
    "f - strings"
   ]
  },
  {
   "cell_type": "code",
   "execution_count": 8,
   "id": "618da81d",
   "metadata": {},
   "outputs": [
    {
     "name": "stdout",
     "output_type": "stream",
     "text": [
      "Your score is: 0\n",
      "Your score is = 0\n",
      "Your score is: 0 and your height is 1.8. You are winning is True.\n"
     ]
    }
   ],
   "source": [
    "score = 0\n",
    "height = 1.8\n",
    "is_winning = True\n",
    "\n",
    "print(\"Your score is: \" + str(score)) # this is quite painful and there is a more convenient way\n",
    "\n",
    "print(f\"Your score is = {score}\")\n",
    "\n",
    "print(f\"Your score is: {score} and your height is {height}. You are winning is {is_winning}.\")\n",
    "\n"
   ]
  }
 ],
 "metadata": {
  "kernelspec": {
   "display_name": "Python 3",
   "language": "python",
   "name": "python3"
  },
  "language_info": {
   "codemirror_mode": {
    "name": "ipython",
    "version": 3
   },
   "file_extension": ".py",
   "mimetype": "text/x-python",
   "name": "python",
   "nbconvert_exporter": "python",
   "pygments_lexer": "ipython3",
   "version": "3.13.7"
  }
 },
 "nbformat": 4,
 "nbformat_minor": 5
}

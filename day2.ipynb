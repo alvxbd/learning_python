{
 "cells": [
  {
   "cell_type": "markdown",
   "id": "0fab0699",
   "metadata": {},
   "source": [
    "# <u> <i> Day 2 - 100 Days of Code Bootcamp"
   ]
  },
  {
   "cell_type": "markdown",
   "id": "3068a2c4",
   "metadata": {},
   "source": [
    "### Data Types"
   ]
  },
  {
   "cell_type": "markdown",
   "id": "fc058a3a",
   "metadata": {},
   "source": [
    "Strings - From Day 1 - String of Characters - Zero Indexed"
   ]
  },
  {
   "cell_type": "code",
   "execution_count": null,
   "id": "50e8b186",
   "metadata": {},
   "outputs": [
    {
     "name": "stdout",
     "output_type": "stream",
     "text": [
      "H\n",
      "o\n",
      "o\n"
     ]
    }
   ],
   "source": [
    "print(\"Hello\" [0]) # Position '0' is the first position\n",
    "\n",
    "print (\"Hello\"[4]) \n",
    "\n",
    "# or\n",
    "\n",
    "print (\"Hello\"[-1]) # '-1' is the last value"
   ]
  }
 ],
 "metadata": {
  "kernelspec": {
   "display_name": "Python 3",
   "language": "python",
   "name": "python3"
  },
  "language_info": {
   "codemirror_mode": {
    "name": "ipython",
    "version": 3
   },
   "file_extension": ".py",
   "mimetype": "text/x-python",
   "name": "python",
   "nbconvert_exporter": "python",
   "pygments_lexer": "ipython3",
   "version": "3.13.7"
  }
 },
 "nbformat": 4,
 "nbformat_minor": 5
}
